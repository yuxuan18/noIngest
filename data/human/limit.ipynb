{
 "cells": [
  {
   "cell_type": "code",
   "execution_count": 1,
   "metadata": {},
   "outputs": [],
   "source": [
    "import pandas as pd\n",
    "detection_files = [\"./detects/\"+str(i)+\".csv\" for i in range(1, 8)]\n",
    "for detection_file in detection_files:\n",
    "    df = pd.read_csv(detection_file)\n",
    "    df = df[df[\"detect_id\"] < 30000]\n",
    "    df.to_csv(detection_file, index=False)"
   ]
  },
  {
   "cell_type": "code",
   "execution_count": 2,
   "metadata": {},
   "outputs": [],
   "source": [
    "import glob\n",
    "for num_video in range(2, 7):\n",
    "    gt_files = glob.glob(\"./groundtruth/\"+str(num_video)+\"/*.csv\")\n",
    "    for gt_file in gt_files:\n",
    "        gt_df = pd.read_csv(gt_file)\n",
    "        gt_df = gt_df[gt_df[\"detect_id\"] < 30000]\n",
    "        gt_df.to_csv(gt_file, index=False)"
   ]
  },
  {
   "cell_type": "code",
   "execution_count": 4,
   "metadata": {},
   "outputs": [],
   "source": [
    "import numpy as np\n",
    "feature_files = [\"./features/\"+str(i)+\".npy\" for i in range(1, 8)]\n",
    "for feature_file in feature_files:\n",
    "    features = np.load(feature_file)\n",
    "    np.save(feature_file, features[:30000])"
   ]
  }
 ],
 "metadata": {
  "kernelspec": {
   "display_name": "vj",
   "language": "python",
   "name": "python3"
  },
  "language_info": {
   "codemirror_mode": {
    "name": "ipython",
    "version": 3
   },
   "file_extension": ".py",
   "mimetype": "text/x-python",
   "name": "python",
   "nbconvert_exporter": "python",
   "pygments_lexer": "ipython3",
   "version": "3.12.2"
  }
 },
 "nbformat": 4,
 "nbformat_minor": 2
}
